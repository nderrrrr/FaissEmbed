{
 "cells": [
  {
   "cell_type": "code",
   "execution_count": 6,
   "metadata": {},
   "outputs": [
    {
     "name": "stderr",
     "output_type": "stream",
     "text": [
      "initial target device: 100%|██████████| 2/2 [00:05<00:00,  2.57s/it]\n",
      "Chunks:   0%|          | 0/1 [00:00<?, ?it/s]You're using a XLMRobertaTokenizerFast tokenizer. Please note that with a fast tokenizer, using the `__call__` method is faster than using a method to encode the text followed by a call to the `pad` method to get a padded encoding.\n",
      "Chunks: 100%|██████████| 1/1 [00:00<00:00,  1.83it/s]"
     ]
    },
    {
     "name": "stdout",
     "output_type": "stream",
     "text": [
      "查詢句子: 今天天氣如何？\n",
      "回傳下一句: 太陽出來了，天氣很熱。\n"
     ]
    },
    {
     "name": "stderr",
     "output_type": "stream",
     "text": [
      "\n"
     ]
    }
   ],
   "source": [
    "import os\n",
    "import json\n",
    "import numpy as np\n",
    "\n",
    "from faiss_embed.faiss_indexer import embeddings_to_faiss, search_similar_embeddings\n",
    "from faiss_embed.embedding_model import EmbeddingModel\n",
    "\n",
    "# 指定要測試的 tribe_code\n",
    "tribe_code = \"CAA\"\n",
    "data_dir = os.path.join(\"data\", tribe_code)\n",
    "\n",
    "# 讀取預先產生的 embedding_list 與 sentence_index_map\n",
    "emb_file = os.path.join(data_dir, f\"{tribe_code}_embedding_list.npy\")\n",
    "idx_file = os.path.join(data_dir, f\"{tribe_code}_sentence_index_map.npy\")\n",
    "\n",
    "embedding_list = np.load(emb_file, allow_pickle=True)\n",
    "sentence_index_map = np.load(idx_file, allow_pickle=True)\n",
    "\n",
    "# 如果後續需要對話全文，亦可讀取 JSON\n",
    "dialogue_file = os.path.join(data_dir, f\"{tribe_code}_dialogue.json\")\n",
    "with open(dialogue_file, 'r', encoding='utf-8') as f:\n",
    "    dialogues = json.load(f)\n",
    "\n",
    "# 建立 Faiss 索引\n",
    "faiss_index = embeddings_to_faiss(embedding_list)\n",
    "\n",
    "# 初始化模型，用來 query\n",
    "model = EmbeddingModel()\n",
    "\n",
    "def find_next_sentence_in_dialogue(query_sentence: str):\n",
    "    # Query embedding\n",
    "    query_emb = model.get_single_embedding(query_sentence)\n",
    "    # 搜尋最相似的一個結果\n",
    "    D, I = search_similar_embeddings(query_emb, faiss_index, top_k=1)\n",
    "    best_idx = I[0][0]  # 取得第一筆相似度最高的 index\n",
    "\n",
    "    d_id, u_id = sentence_index_map[best_idx]\n",
    "    \n",
    "    # 取得下一句 (如果存在)\n",
    "    if u_id + 1 < len(dialogues[d_id]):\n",
    "        return dialogues[d_id][u_id + 1][1]\n",
    "    else:\n",
    "        return None\n",
    "\n",
    "# 測試\n",
    "test_query = \"今天天氣如何？\"\n",
    "next_sentence = find_next_sentence_in_dialogue(test_query)\n",
    "print(f\"查詢句子: {test_query}\")\n",
    "if next_sentence:\n",
    "    print(f\"回傳下一句: {next_sentence}\")\n",
    "else:\n",
    "    print(\"已經是對話的最後一句，沒有後續了。\")"
   ]
  }
 ],
 "metadata": {
  "kernelspec": {
   "display_name": "bge",
   "language": "python",
   "name": "python3"
  },
  "language_info": {
   "codemirror_mode": {
    "name": "ipython",
    "version": 3
   },
   "file_extension": ".py",
   "mimetype": "text/x-python",
   "name": "python",
   "nbconvert_exporter": "python",
   "pygments_lexer": "ipython3",
   "version": "3.10.15"
  }
 },
 "nbformat": 4,
 "nbformat_minor": 2
}
